{
 "cells": [
  {
   "cell_type": "code",
   "execution_count": 11,
   "metadata": {},
   "outputs": [],
   "source": [
    "from bs4 import BeautifulSoup\n",
    "from collections import OrderedDict"
   ]
  },
  {
   "cell_type": "code",
   "execution_count": 2,
   "metadata": {},
   "outputs": [],
   "source": [
    "# TODO: set from cli\n",
    "with open(\"demo-files/sample-0-origin.html\") as f:\n",
    "    html = BeautifulSoup(f, 'html.parser')\n"
   ]
  },
  {
   "cell_type": "code",
   "execution_count": 3,
   "metadata": {},
   "outputs": [],
   "source": [
    "# TODO: set from cli\n",
    "id_ = 'make-everything-ok-button'"
   ]
  },
  {
   "cell_type": "code",
   "execution_count": 4,
   "metadata": {},
   "outputs": [
    {
     "data": {
      "text/plain": [
       "<a class=\"btn btn-success\" href=\"#ok\" id=\"make-everything-ok-button\" onclick=\"javascript:window.okDone(); return false;\" rel=\"next\" title=\"Make-Button\">\n",
       "                              Make everything OK\n",
       "                            </a>"
      ]
     },
     "execution_count": 4,
     "metadata": {},
     "output_type": "execute_result"
    }
   ],
   "source": [
    "elements = html.select('#'+id_)\n",
    "# TODO: if element not found - raise exc\n",
    "\n",
    "initial_element = elements[0]\n",
    "initial_element"
   ]
  },
  {
   "cell_type": "code",
   "execution_count": 5,
   "metadata": {},
   "outputs": [
    {
     "data": {
      "text/plain": [
       "{'id': 'make-everything-ok-button',\n",
       " 'class': 'btn btn-success',\n",
       " 'href': '#ok',\n",
       " 'title': 'Make-Button',\n",
       " 'rel': 'next',\n",
       " 'onclick': 'javascript:window.okDone(); return false;'}"
      ]
     },
     "execution_count": 5,
     "metadata": {},
     "output_type": "execute_result"
    }
   ],
   "source": [
    "attributes_to_match = {}\n",
    "for attr, value in initial_element.attrs.items():\n",
    "    if type(value) == list:\n",
    "        value = ' '.join(value)\n",
    "    attributes_to_match[attr] = value\n",
    "    \n",
    "text_to_match = initial_element.text.strip()\n",
    "attributes_to_match"
   ]
  },
  {
   "cell_type": "code",
   "execution_count": null,
   "metadata": {},
   "outputs": [],
   "source": []
  },
  {
   "cell_type": "code",
   "execution_count": 7,
   "metadata": {},
   "outputs": [
    {
     "data": {
      "text/plain": [
       "{'id=\"make-everything-ok-button\"': [],\n",
       " 'class=\"btn btn-success\"': [],\n",
       " 'href=\"#ok\"': [<a class=\"btn test-link-ok\" href=\"#ok\" onclick=\"javascript:window.okComplete(); return false;\" rel=\"next\" title=\"Make-Button\">\n",
       "                                Make everything OK\n",
       "                              </a>],\n",
       " 'title=\"Make-Button\"': [<a class=\"btn test-link-ok\" href=\"#ok\" onclick=\"javascript:window.okComplete(); return false;\" rel=\"next\" title=\"Make-Button\">\n",
       "                                Make everything OK\n",
       "                              </a>,\n",
       "  <a class=\"btn btn-info\" href=\"#incorrect-link\" onclick=\"javascript:window.close(); return false;\" style=\"display:none\" title=\"Make-Button\">\n",
       "                                Make everything OK\n",
       "                              </a>],\n",
       " 'rel=\"next\"': [<a class=\"btn test-link-ok\" href=\"#ok\" onclick=\"javascript:window.okComplete(); return false;\" rel=\"next\" title=\"Make-Button\">\n",
       "                                Make everything OK\n",
       "                              </a>],\n",
       " 'onclick=\"javascript:window.okDone(); return false;\"': [],\n",
       " 'text=\"Make everything OK\"': [<a class=\"btn btn-info\" href=\"#incorrect-link\" onclick=\"javascript:window.close(); return false;\" style=\"display:none\" title=\"Make-Button\">\n",
       "                                Make everything OK\n",
       "                              </a>]}"
      ]
     },
     "execution_count": 7,
     "metadata": {},
     "output_type": "execute_result"
    }
   ],
   "source": [
    "# ------------\n",
    "# now open target file and search for elements having attributes_to_match\n",
    "# with open(\"demo-files/sample-1-evil-gemini.html\") as f:\n",
    "with open(\"demo-files/sample-2-container-and-clone.html\") as f:\n",
    "    target_html = BeautifulSoup(f, 'html.parser')\n",
    "\n",
    "def find_tag_by_text(html, text):\n",
    "    # In BeautifulSoup, 'text' propery holds text of all child elements,\n",
    "    #  so all parents of actual element will be returned (beginning with <html> tag)\n",
    "    # That's why we take last element\n",
    "    tags = html.find_all(lambda tag: text in tag.text)\n",
    "    # Return list just for simplicity of usage in current program.\n",
    "    # In real world, its better to return None or just tag\n",
    "    return [] if len(tags) == 0 else [tags[-1]] \n",
    "\n",
    "matches = {}\n",
    "for attr, value in attributes_to_match.items():\n",
    "    selector = f'{attr}=\"{value}\"'\n",
    "    matches[selector] = target_html.select(f'[{selector}]')\n",
    "matches[f'text=\"{text_to_match}\"'] = find_tag_by_text(target_html, text_to_match)\n",
    "\n",
    "matches"
   ]
  },
  {
   "cell_type": "code",
   "execution_count": 9,
   "metadata": {},
   "outputs": [
    {
     "data": {
      "text/plain": [
       "{<a class=\"btn btn-info\" href=\"#incorrect-link\" onclick=\"javascript:window.close(); return false;\" style=\"display:none\" title=\"Make-Button\">\n",
       "                               Make everything OK\n",
       "                             </a>,\n",
       " <a class=\"btn test-link-ok\" href=\"#ok\" onclick=\"javascript:window.okComplete(); return false;\" rel=\"next\" title=\"Make-Button\">\n",
       "                               Make everything OK\n",
       "                             </a>}"
      ]
     },
     "execution_count": 9,
     "metadata": {},
     "output_type": "execute_result"
    }
   ],
   "source": [
    "temp_all_matched_tags = [] \n",
    "for v in matches.values(): \n",
    "    temp_all_matched_tags.extend(v)\n",
    "all_matched_tags = set(temp_all_matched_tags)\n",
    "all_matched_tags\n"
   ]
  },
  {
   "cell_type": "code",
   "execution_count": 10,
   "metadata": {},
   "outputs": [
    {
     "data": {
      "text/plain": [
       "{<a class=\"btn test-link-ok\" href=\"#ok\" onclick=\"javascript:window.okComplete(); return false;\" rel=\"next\" title=\"Make-Button\">\n",
       "                               Make everything OK\n",
       "                             </a>: ['href=\"#ok\"',\n",
       "  'title=\"Make-Button\"',\n",
       "  'rel=\"next\"'],\n",
       " <a class=\"btn btn-info\" href=\"#incorrect-link\" onclick=\"javascript:window.close(); return false;\" style=\"display:none\" title=\"Make-Button\">\n",
       "                               Make everything OK\n",
       "                             </a>: ['title=\"Make-Button\"',\n",
       "  'text=\"Make everything OK\"']}"
      ]
     },
     "execution_count": 10,
     "metadata": {},
     "output_type": "execute_result"
    }
   ],
   "source": [
    "matches_per_tag = {}\n",
    "for tag in all_matched_tags:\n",
    "    matched_selectors = [selector for selector in matches.keys() if tag in matches[selector]]\n",
    "    matches_per_tag[tag] = matched_selectors\n",
    "matches_per_tag"
   ]
  },
  {
   "cell_type": "code",
   "execution_count": 20,
   "metadata": {},
   "outputs": [
    {
     "name": "stdout",
     "output_type": "stream",
     "text": [
      "<a class=\"btn test-link-ok\" href=\"#ok\" onclick=\"javascript:window.okComplete(); return false;\" rel=\"next\" title=\"Make-Button\">\n",
      "                              Make everything OK\n",
      "                            </a>\n"
     ]
    },
    {
     "data": {
      "text/plain": [
       "['href=\"#ok\"', 'title=\"Make-Button\"', 'rel=\"next\"']"
      ]
     },
     "execution_count": 20,
     "metadata": {},
     "output_type": "execute_result"
    }
   ],
   "source": [
    "# find tag with maximum number of matched selectors\n",
    "best_tag = max(matches_per_tag, key = lambda tag: len(matches_per_tag[tag]))\n",
    "print(best_tag)\n",
    "matches_per_tag[best_tag]"
   ]
  }
 ],
 "metadata": {
  "kernelspec": {
   "display_name": "Python 3",
   "language": "python",
   "name": "python3"
  },
  "language_info": {
   "codemirror_mode": {
    "name": "ipython",
    "version": 3
   },
   "file_extension": ".py",
   "mimetype": "text/x-python",
   "name": "python",
   "nbconvert_exporter": "python",
   "pygments_lexer": "ipython3",
   "version": "3.6.5"
  }
 },
 "nbformat": 4,
 "nbformat_minor": 2
}
